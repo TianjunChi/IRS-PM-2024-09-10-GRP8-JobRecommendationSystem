{
 "cells": [
  {
   "cell_type": "code",
   "execution_count": 2,
   "metadata": {},
   "outputs": [
    {
     "name": "stdout",
     "output_type": "stream",
     "text": [
      "[[       -inf        -inf        -inf ...  0.01520166  0.32587472\n",
      "   0.10274912]\n",
      " [ 5.2613287   0.05197871  2.0890281  ...  1.2916763  -0.01135076\n",
      "   0.46103567]\n",
      " [ 0.64497226  2.548879    3.511375   ... -0.19401713 -0.699405\n",
      "   0.4544437 ]\n",
      " ...\n",
      " [ 1.0230085   1.6873201   0.7659099  ...  0.46680862  0.6147556\n",
      "  -0.27280056]\n",
      " [ 2.0321572   0.6238936   3.4196339  ...  0.5510905   0.6924623\n",
      "   1.250209  ]\n",
      " [ 1.5537517   1.2808977   1.820602   ...  0.08995909 -0.4857951\n",
      "  -0.3518509 ]]\n"
     ]
    }
   ],
   "source": [
    "import numpy as np\n",
    "data = np.load('/Users/lzm1645/Library/CloudStorage/OneDrive-NationalUniversityofSingapore/code/NUS-ISS/Project1/IRS-PM-2024-09-10-GRP8-JobRecommendationSystem/KGAT-pytorch/trained_model/KGAT/last-fm/embed-dim64_relation-dim64_random-walk_bi-interaction_64-32-16_lr0.0001_pretrain1/cf_scores.npy')\n",
    "print(data)"
   ]
  },
  {
   "cell_type": "code",
   "execution_count": 5,
   "metadata": {},
   "outputs": [
    {
     "name": "stdout",
     "output_type": "stream",
     "text": [
      "Array name: user_embed\n",
      "[[-0.25768158 -0.19562101 -0.25695443 ...  0.5355921  -0.54243845\n",
      "   0.5831567 ]\n",
      " [-0.2973822  -0.35147798  0.0271878  ...  0.04442434 -0.2159082\n",
      "  -0.13629146]\n",
      " [-0.28928426 -0.34439468  0.09496689 ...  0.04265148 -0.25339326\n",
      "  -0.15252915]\n",
      " ...\n",
      " [-0.33803216  0.5740367   0.6471256  ... -0.00527241  0.31633136\n",
      "   0.5396175 ]\n",
      " [-0.1282398  -0.15964334 -0.5636549  ...  0.13391715 -0.42565304\n",
      "  -0.07105634]\n",
      " [-0.14491767  0.52296627  0.22041388 ...  0.05313261 -0.00512192\n",
      "  -0.58575726]]\n",
      "Array name: item_embed\n",
      "[[-0.10621943 -0.23398118  0.02479751 ...  0.17865992 -0.13194041\n",
      "   0.20496045]\n",
      " [-0.13175096 -0.2231702   0.0357348  ...  0.09129063 -0.00497262\n",
      "   0.1778772 ]\n",
      " [-0.22395839 -0.3695442  -0.00512868 ...  0.24194956 -0.2912393\n",
      "   0.39411354]\n",
      " ...\n",
      " [-0.01389821 -0.13916579 -0.001551   ... -0.1716217  -0.03493432\n",
      "  -0.01687632]\n",
      " [ 0.14219154 -0.12778325  0.13179488 ... -0.23551048 -0.11511885\n",
      "   0.175678  ]\n",
      " [-0.10337551 -0.01643415  0.28041178 ...  0.13046414 -0.05102679\n",
      "   0.0127599 ]]\n"
     ]
    }
   ],
   "source": [
    "import numpy as np\n",
    "data = np.load(r'E:\\OneDrive - National University of Singapore\\code\\NUS-ISS\\Project1\\IRS-PM-2024-09-10-GRP8-JobRecommendationSystem\\Recommendation_System\\KGAT\\datasets\\pretrain\\ours\\mf.npz')\n",
    "for key in data.files:\n",
    "    print(f\"Array name: {key}\")\n",
    "    print(data[key])"
   ]
  }
 ],
 "metadata": {
  "kernelspec": {
   "display_name": "base",
   "language": "python",
   "name": "python3"
  },
  "language_info": {
   "codemirror_mode": {
    "name": "ipython",
    "version": 3
   },
   "file_extension": ".py",
   "mimetype": "text/x-python",
   "name": "python",
   "nbconvert_exporter": "python",
   "pygments_lexer": "ipython3",
   "version": "3.11.5"
  }
 },
 "nbformat": 4,
 "nbformat_minor": 2
}
