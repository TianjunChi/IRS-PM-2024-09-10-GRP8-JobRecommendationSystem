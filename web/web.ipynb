{
 "cells": [
  {
   "cell_type": "code",
   "execution_count": 1,
   "metadata": {},
   "outputs": [
    {
     "name": "stdout",
     "output_type": "stream",
     "text": [
      " * Serving Flask app '__main__'\n",
      " * Debug mode: off\n"
     ]
    },
    {
     "name": "stderr",
     "output_type": "stream",
     "text": [
      "WARNING: This is a development server. Do not use it in a production deployment. Use a production WSGI server instead.\n",
      " * Running on all addresses (0.0.0.0)\n",
      " * Running on http://127.0.0.1:5000\n",
      " * Running on http://192.168.3.6:5000\n",
      "Press CTRL+C to quit\n",
      "127.0.0.1 - - [03/Oct/2024 12:24:22] \"GET / HTTP/1.1\" 404 -\n",
      "127.0.0.1 - - [03/Oct/2024 12:24:22] \"GET /favicon.ico HTTP/1.1\" 404 -\n",
      "192.168.3.6 - - [03/Oct/2024 12:24:25] \"GET / HTTP/1.1\" 404 -\n",
      "192.168.3.6 - - [03/Oct/2024 12:24:25] \"GET /favicon.ico HTTP/1.1\" 404 -\n",
      "127.0.0.1 - - [03/Oct/2024 12:25:00] \"GET / HTTP/1.1\" 404 -\n"
     ]
    }
   ],
   "source": [
    "from flask import Flask, jsonify\n",
    "\n",
    "app = Flask(__name__)\n",
    "\n",
    "# 模拟的推荐工作数据\n",
    "@app.route('/recommend_jobs', methods=['GET'])\n",
    "def recommend_jobs():\n",
    "    jobs = [\n",
    "        {\"title\": \"软件工程师\", \"company\": \"ABC Tech\", \"location\": \"北京\"},\n",
    "        {\"title\": \"数据分析师\", \"company\": \"XYZ Analytics\", \"location\": \"上海\"},\n",
    "        {\"title\": \"全栈开发工程师\", \"company\": \"DEF Solutions\", \"location\": \"深圳\"},\n",
    "        {\"title\": \"产品经理\", \"company\": \"GHI Innovations\", \"location\": \"广州\"},\n",
    "        {\"title\": \"机器学习工程师\", \"company\": \"ML Labs\", \"location\": \"杭州\"},\n",
    "        {\"title\": \"前端开发工程师\", \"company\": \"FrontEnd Masters\", \"location\": \"成都\"}\n",
    "    ]\n",
    "    return jsonify(jobs)\n",
    "\n",
    "if __name__ == '__main__':\n",
    "    app.run(host='0.0.0.0', port=5000)"
   ]
  },
  {
   "cell_type": "code",
   "execution_count": null,
   "metadata": {},
   "outputs": [],
   "source": []
  }
 ],
 "metadata": {
  "kernelspec": {
   "display_name": "base",
   "language": "python",
   "name": "python3"
  },
  "language_info": {
   "codemirror_mode": {
    "name": "ipython",
    "version": 3
   },
   "file_extension": ".py",
   "mimetype": "text/x-python",
   "name": "python",
   "nbconvert_exporter": "python",
   "pygments_lexer": "ipython3",
   "version": "3.11.5"
  }
 },
 "nbformat": 4,
 "nbformat_minor": 2
}
